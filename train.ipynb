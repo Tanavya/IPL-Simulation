{
 "cells": [
  {
   "cell_type": "code",
   "execution_count": 1,
   "metadata": {},
   "outputs": [
    {
     "name": "stdout",
     "output_type": "stream",
     "text": [
      "Running on PyMC3 v3.9.3\n"
     ]
    }
   ],
   "source": [
    "import yaml\n",
    "import os\n",
    "import datetime\n",
    "import matplotlib.pyplot as plt\n",
    "import arviz as az\n",
    "import numpy as np\n",
    "import pymc3 as pm\n",
    "import pymc3.distributions.transforms as tr\n",
    "import shutil\n",
    "import theano\n",
    "import theano.tensor as tt\n",
    "import random\n",
    "import math\n",
    "import pandas as pd\n",
    "import sys\n",
    "from model import create_model\n",
    "\n",
    "print(\"Running on PyMC3 v{}\".format(pm.__version__))"
   ]
  },
  {
   "cell_type": "code",
   "execution_count": 2,
   "metadata": {},
   "outputs": [],
   "source": [
    "def get_situation(w, b):\n",
    "    if 0 <= w and w <= 3:\n",
    "        if 1 <= b and b <= 36:\n",
    "            return 1\n",
    "        elif 36 <= b and b <= 96:\n",
    "            return 2\n",
    "        else:\n",
    "            return 3\n",
    "    elif 4 <= w and w <= 6:\n",
    "        if 1 <= b and b <= 36:\n",
    "            return 4\n",
    "        elif 36 <= b and b <= 96:\n",
    "            return 5\n",
    "        else:\n",
    "            return 6\n",
    "    else:\n",
    "        if 1 <= b and b <= 36:\n",
    "            return 7\n",
    "        elif 36 <= b and b <= 96:\n",
    "            return 8\n",
    "        else:\n",
    "            return 9"
   ]
  },
  {
   "cell_type": "code",
   "execution_count": 3,
   "metadata": {},
   "outputs": [],
   "source": [
    "def get_outcome(r, wicket):\n",
    "    if wicket is True:\n",
    "        return 1\n",
    "    elif r == 0:\n",
    "        return 2\n",
    "    elif r == 1:\n",
    "        return 3\n",
    "    elif r == 2:\n",
    "        return 4\n",
    "    elif r == 3:\n",
    "        return 5\n",
    "    elif r == 4:\n",
    "        return 6\n",
    "    elif r == 6:\n",
    "        return 7\n",
    "    else:\n",
    "        return 0"
   ]
  },
  {
   "cell_type": "code",
   "execution_count": 4,
   "metadata": {},
   "outputs": [],
   "source": [
    "def initialise(data, batsmen, bowlers):\n",
    "    \n",
    "    noballs_and_wides = {}\n",
    "    batsman_index = {}\n",
    "    bowler_index = {}\n",
    "    batsman_stats_columns = [\"M\", \"Outs\", \"Runs\", \"Avg\", \"BF\", \"SR\", \"4s\", \"6s\"]\n",
    "    bowler_stats_columns = [\"M\", \"B\", \"Runs\", \"Wkts\", \"Econ\", \"Avg\", \"SR\"]\n",
    "    \n",
    "    batsman_stats = [{} for i in range(len(batsmen))]\n",
    "    bowler_stats = [{} for j in range(len(bowlers))]\n",
    "\n",
    "    for i in range(len(batsmen)):\n",
    "        for col in batsman_stats_columns:\n",
    "            batsman_stats[i][col] = 0\n",
    "\n",
    "        batsman_stats[i][\"M\"] = set([])\n",
    "        batsman_stats[i][\"Name\"] = batsmen[i]\n",
    "        batsman_index[batsmen[i]] = i\n",
    "\n",
    "    for j in range(len(bowlers)):\n",
    "        for col in bowler_stats_columns:\n",
    "            bowler_stats[j][col] = 0\n",
    "        bowler_stats[j][\"M\"] = set([])\n",
    "        bowler_stats[j][\"Name\"] = bowlers[j]\n",
    "        bowler_index[bowlers[j]] = j\n",
    "\n",
    "    X = [[] for i in range(9)]\n",
    "    id1 = [[] for i in range(9)]\n",
    "    id2 = [[] for i in range(9)]\n",
    "\n",
    "    for k in range(0, 8):\n",
    "        noballs_and_wides[k] = 0\n",
    "    \n",
    "    current_id = -1\n",
    "    w = 0\n",
    "    b = 0\n",
    "    for i in range(len(data)):\n",
    "        ball_data = data.iloc[i]\n",
    "        if current_id != ball_data[\"match_id\"]:\n",
    "            current_id = ball_data[\"match_id\"]\n",
    "            w = 0\n",
    "            b = 0\n",
    "\n",
    "        b += 1\n",
    "\n",
    "        batsman = ball_data[\"batsman\"]\n",
    "        bowler = ball_data[\"bowler\"]\n",
    "\n",
    "        i = batsman_index[batsman]\n",
    "        j = bowler_index[bowler]\n",
    "\n",
    "        player_dismissed = None\n",
    "        if pd.notnull(ball_data[\"player_dismissed\"]):\n",
    "            player_dismissed = ball_data[\"player_dismissed\"]\n",
    "            w += 1\n",
    "\n",
    "        if ball_data[\"wide_runs\"] >= 1 or ball_data[\"noball_runs\"] >= 1:\n",
    "            runs = ball_data[\"batsman_runs\"] # check should be total_runs ?\n",
    "            noballs_and_wides[get_outcome(runs, player_dismissed)] += 1\n",
    "            continue\n",
    "\n",
    "        runs = ball_data[\"batsman_runs\"]\n",
    "        l = get_situation(w, b) - 1\n",
    "        k = get_outcome(runs, player_dismissed != None)\n",
    "        \n",
    "        if k == 0:\n",
    "            continue\n",
    "        \n",
    "        X[l].append(k)\n",
    "        id1[l].append(i)\n",
    "        id2[l].append(j)\n",
    "\n",
    "        batsman_stats[i][\"M\"].add(current_id)\n",
    "        batsman_stats[i][\"BF\"] += 1\n",
    "        batsman_stats[i][\"Runs\"] += runs\n",
    "        batsman_stats[i][\"4s\"] += (runs == 4)\n",
    "        batsman_stats[i][\"6s\"] += (runs == 6)\n",
    "        if player_dismissed:\n",
    "            batsman_stats[batsman_index[player_dismissed]][\"Outs\"] += (player_dismissed != None)\n",
    "\n",
    "        bowler_stats[j][\"M\"].add(current_id)\n",
    "        bowler_stats[j][\"B\"] += 1\n",
    "        bowler_stats[j][\"Runs\"] += runs\n",
    "        bowler_stats[j][\"Wkts\"] += (player_dismissed != None)\n",
    "    \n",
    "    X = np.asarray([np.array(X[i]) for i in range(9)], dtype=object)\n",
    "    id1 = np.asarray([np.array(id1[i]) for i in range(9)], dtype=object)\n",
    "    id2 = np.asarray([np.array(id2[i]) for i in range(9)], dtype=object)\n",
    "    \n",
    "    return (batsman_stats, bowler_stats, X, id1, id2, noballs_and_wides)"
   ]
  },
  {
   "cell_type": "code",
   "execution_count": 5,
   "metadata": {},
   "outputs": [],
   "source": [
    "argumentList = sys.argv "
   ]
  },
  {
   "cell_type": "code",
   "execution_count": 6,
   "metadata": {},
   "outputs": [],
   "source": [
    "start_year = 2012\n",
    "end_year = 2019\n",
    "n_iter = 500\n",
    "train_flag = 1 # 1 if train on First Innings, 2 if train on Second Innings, 3 if train on all data\n",
    "save_directory = \"2012-2019-5k-iterations/trace\""
   ]
  },
  {
   "cell_type": "code",
   "execution_count": 7,
   "metadata": {},
   "outputs": [],
   "source": [
    "deliveries_data = pd.read_csv(\"data/deliveries.csv\")"
   ]
  },
  {
   "cell_type": "code",
   "execution_count": 8,
   "metadata": {},
   "outputs": [],
   "source": [
    "matches = pd.read_csv(\"data/matches.csv\")"
   ]
  },
  {
   "cell_type": "code",
   "execution_count": 9,
   "metadata": {},
   "outputs": [],
   "source": [
    "selected_ids = matches[(matches[\"season\"] >= start_year) & (matches[\"season\"] <= end_year)][\"id\"]\n",
    "selected_data = deliveries_data[deliveries_data[\"match_id\"].isin(selected_ids)]"
   ]
  },
  {
   "cell_type": "code",
   "execution_count": 10,
   "metadata": {},
   "outputs": [
    {
     "name": "stdout",
     "output_type": "stream",
     "text": [
      "First innings data size: 62302\n",
      "Second innings data size: 58094\n"
     ]
    }
   ],
   "source": [
    "first_innings_data = selected_data[selected_data[\"inning\"] == 1]\n",
    "second_innings_data = selected_data[selected_data[\"inning\"] == 2]\n",
    "# first_innings_data = selected_data # just to compare all innings\n",
    "print(\"First innings data size:\", len(first_innings_data))\n",
    "print(\"Second innings data size:\", len(second_innings_data))"
   ]
  },
  {
   "cell_type": "code",
   "execution_count": 11,
   "metadata": {},
   "outputs": [],
   "source": [
    "# batsmen = selected_data[\"batsman\"].unique()\n",
    "batsmen = first_innings_data[\"batsman\"].unique()\n",
    "# bowlers = selected_data[\"bowler\"].unique()\n",
    "bowlers = first_innings_data[\"bowler\"].unique()"
   ]
  },
  {
   "cell_type": "code",
   "execution_count": 12,
   "metadata": {},
   "outputs": [],
   "source": [
    "if train_flag == 1:\n",
    "    batsman_stats, bowler_stats, X, id1, id2, noballs_and_wides = initialise(first_innings_data, batsmen, bowlers)\n",
    "elif train_flag == 2:\n",
    "    batsman_stats, bowler_stats, X, id1, id2, noballs_and_wides = initialise(second_innings_data, batsmen, bowlers)\n",
    "else:\n",
    "    batsman_stats, bowler_stats, X, id1, id2, noballs_and_wides = initialise(selected_data, batsmen, bowlers)"
   ]
  },
  {
   "cell_type": "code",
   "execution_count": 13,
   "metadata": {},
   "outputs": [],
   "source": [
    "noballs_and_wides_count = sum(noballs_and_wides.values())\n",
    "total_balls = sum([len(X[i]) for i in range(9)]) + noballs_and_wides_count"
   ]
  },
  {
   "cell_type": "code",
   "execution_count": 14,
   "metadata": {},
   "outputs": [
    {
     "name": "stdout",
     "output_type": "stream",
     "text": [
      "Number of noballs and wides: 2027\n",
      "Number of balls bowled: 62285\n"
     ]
    }
   ],
   "source": [
    "print(\"Number of noballs and wides:\", noballs_and_wides_count)\n",
    "print(\"Number of balls bowled:\", total_balls)"
   ]
  },
  {
   "cell_type": "code",
   "execution_count": 15,
   "metadata": {},
   "outputs": [
    {
     "name": "stdout",
     "output_type": "stream",
     "text": [
      "Balls in situation 1: 17539\n",
      "Balls in situation 2: 23615\n",
      "Balls in situation 3: 3766\n",
      "Balls in situation 4: 118\n",
      "Balls in situation 5: 5602\n",
      "Balls in situation 6: 7402\n",
      "Balls in situation 7: 2\n",
      "Balls in situation 8: 248\n",
      "Balls in situation 9: 1966\n"
     ]
    }
   ],
   "source": [
    "for i in range(9):\n",
    "    print(\"Balls in situation %d: %d\" % (i+1, len(X[i])))"
   ]
  },
  {
   "cell_type": "code",
   "execution_count": 16,
   "metadata": {},
   "outputs": [],
   "source": [
    "model = create_model(batsmen, bowlers, id1, id2, X)"
   ]
  },
  {
   "cell_type": "code",
   "execution_count": null,
   "metadata": {},
   "outputs": [],
   "source": [
    "with model:\n",
    "    trace = pm.sample(n_iter)"
   ]
  },
  {
   "cell_type": "code",
   "execution_count": null,
   "metadata": {},
   "outputs": [],
   "source": [
    "pm.save_trace(trace, directory=save_directory, overwrite=True)"
   ]
  }
 ],
 "metadata": {
  "environment": {
   "name": "common-cpu.m56",
   "type": "gcloud",
   "uri": "gcr.io/deeplearning-platform-release/base-cpu:m56"
  },
  "kernelspec": {
   "display_name": "Python 3",
   "language": "python",
   "name": "python3"
  },
  "language_info": {
   "codemirror_mode": {
    "name": "ipython",
    "version": 3
   },
   "file_extension": ".py",
   "mimetype": "text/x-python",
   "name": "python",
   "nbconvert_exporter": "python",
   "pygments_lexer": "ipython3",
   "version": "3.7.8"
  }
 },
 "nbformat": 4,
 "nbformat_minor": 4
}
